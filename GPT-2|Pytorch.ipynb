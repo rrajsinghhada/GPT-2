{
 "cells": [
  {
   "cell_type": "markdown",
   "metadata": {},
   "source": [
    "# Import Dependencies"
   ]
  },
  {
   "cell_type": "code",
   "execution_count": 1,
   "metadata": {},
   "outputs": [],
   "source": [
    "# !pip install transformers"
   ]
  },
  {
   "cell_type": "code",
   "execution_count": 2,
   "metadata": {},
   "outputs": [],
   "source": [
    "from transformers import GPT2LMHeadModel, GPT2Tokenizer"
   ]
  },
  {
   "cell_type": "code",
   "execution_count": 3,
   "metadata": {},
   "outputs": [],
   "source": [
    "tokenizer = GPT2Tokenizer.from_pretrained(\"gpt2-large\")"
   ]
  },
  {
   "cell_type": "code",
   "execution_count": 4,
   "metadata": {},
   "outputs": [],
   "source": [
    "model = GPT2LMHeadModel.from_pretrained(\"gpt2-large\", pad_token_id=tokenizer.eos_token_id)"
   ]
  },
  {
   "cell_type": "code",
   "execution_count": 38,
   "metadata": {},
   "outputs": [],
   "source": [
    "sentence = 'Jai shree Ram'"
   ]
  },
  {
   "cell_type": "code",
   "execution_count": 39,
   "metadata": {},
   "outputs": [],
   "source": [
    "input_ids = tokenizer.encode(sentence, return_tensors='pt')"
   ]
  },
  {
   "cell_type": "code",
   "execution_count": 40,
   "metadata": {},
   "outputs": [
    {
     "data": {
      "text/plain": [
       "tensor([[  41, 1872,  427,  631, 7431]])"
      ]
     },
     "execution_count": 40,
     "metadata": {},
     "output_type": "execute_result"
    }
   ],
   "source": [
    "input_ids"
   ]
  },
  {
   "cell_type": "code",
   "execution_count": 41,
   "metadata": {},
   "outputs": [],
   "source": [
    "# generate text until the output length (which includes the context length) reaches 50\n",
    "output = model.generate(input_ids, max_length=100, num_beams=5, no_repeat_ngram_size=2, early_stopping=True)"
   ]
  },
  {
   "cell_type": "code",
   "execution_count": 42,
   "metadata": {},
   "outputs": [
    {
     "data": {
      "text/plain": [
       "tensor([[   41,  1872,   427,   631,  7431,   198,   198,    49,  1228,   292,\n",
       "         14813,    11,  3794,    11,  4916,    11,  3482,    11,  3340,    11,\n",
       "          4505,    11,   968,  8936,    11,  4881,    11,  4486,    11,  8031,\n",
       "            11,  2869,    11,  2520,  4969,    11, 14119,    11,  9764,  9071,\n",
       "            11, 12551,    11, 15336,    11, 13316,    11, 16952,    11, 16256,\n",
       "            11,  3284,    11,  7420,  9671,    11, 27028,    11, 18286,    11,\n",
       "         29367,    11, 29066,    11, 41782,    11,  1578,  4498, 24880,    11,\n",
       "          6365,    11,  8078,    11, 16849,    11, 29638,    11, 33972,    11,\n",
       "          7137,    11,  4068,    11,  3908,    11,  4392,    11, 13465,    11,\n",
       "         19610,    11, 12492,    11, 23918,    11, 36498,    11, 46106,  5411]])"
      ]
     },
     "execution_count": 42,
     "metadata": {},
     "output_type": "execute_result"
    }
   ],
   "source": [
    "output"
   ]
  },
  {
   "cell_type": "code",
   "execution_count": 43,
   "metadata": {},
   "outputs": [
    {
     "name": "stdout",
     "output_type": "stream",
     "text": [
      "Jai shree Ram\n",
      "\n",
      "Rajasthan, India, USA, UK, Canada, Australia, New Zealand, France, Germany, Italy, Japan, South Korea, Taiwan, Hong Kong, Singapore, Malaysia, Philippines, Thailand, Indonesia, Russia, Saudi Arabia, Kuwait, Qatar, UAE, Bahrain, Oman, United Arab Emirates, Egypt, Jordan, Lebanon, Morocco, Tunisia, Turkey, Iran, Iraq, Syria, Libya, Sudan, Yemen, Somalia, Algeria, Mauritania\n"
     ]
    }
   ],
   "source": [
    "print(tokenizer.decode(output[0], skip_special_tokens=True))"
   ]
  },
  {
   "cell_type": "code",
   "execution_count": null,
   "metadata": {},
   "outputs": [],
   "source": []
  }
 ],
 "metadata": {
  "kernelspec": {
   "display_name": "Python 3.9 (pytorch)",
   "language": "python",
   "name": "pytorch"
  },
  "language_info": {
   "codemirror_mode": {
    "name": "ipython",
    "version": 3
   },
   "file_extension": ".py",
   "mimetype": "text/x-python",
   "name": "python",
   "nbconvert_exporter": "python",
   "pygments_lexer": "ipython3",
   "version": "3.9.16"
  }
 },
 "nbformat": 4,
 "nbformat_minor": 2
}
